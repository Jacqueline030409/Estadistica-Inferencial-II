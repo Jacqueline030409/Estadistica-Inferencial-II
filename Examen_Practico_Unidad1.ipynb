{
 "cells": [
  {
   "cell_type": "code",
   "execution_count": null,
   "metadata": {},
   "outputs": [
    {
     "name": "stdout",
     "output_type": "stream",
     "text": [
      "Coeficiente de correlación:  0.9227\n",
      "\n",
      "Coeficiente de determinación:  0.8514\n",
      "\n",
      "Intervalo de confianza para b1 de  98%\n",
      " 5.2890 < b1 <  6.1729\n",
      "\n"
     ]
    },
    {
     "data": {
      "text/html": [
       "<div>\n",
       "<style scoped>\n",
       "    .dataframe tbody tr th:only-of-type {\n",
       "        vertical-align: middle;\n",
       "    }\n",
       "\n",
       "    .dataframe tbody tr th {\n",
       "        vertical-align: top;\n",
       "    }\n",
       "\n",
       "    .dataframe thead th {\n",
       "        text-align: right;\n",
       "    }\n",
       "</style>\n",
       "<table border=\"1\" class=\"dataframe\">\n",
       "  <thead>\n",
       "    <tr style=\"text-align: right;\">\n",
       "      <th></th>\n",
       "      <th>df</th>\n",
       "      <th>sum_sq</th>\n",
       "      <th>mean_sq</th>\n",
       "      <th>F</th>\n",
       "      <th>PR(&gt;F)</th>\n",
       "    </tr>\n",
       "  </thead>\n",
       "  <tbody>\n",
       "    <tr>\n",
       "      <th>Duration</th>\n",
       "      <td>1.0</td>\n",
       "      <td>9.847530e+06</td>\n",
       "      <td>9.847530e+06</td>\n",
       "      <td>928.219489</td>\n",
       "      <td>5.795220e-69</td>\n",
       "    </tr>\n",
       "    <tr>\n",
       "      <th>Residual</th>\n",
       "      <td>162.0</td>\n",
       "      <td>1.718667e+06</td>\n",
       "      <td>1.060905e+04</td>\n",
       "      <td>NaN</td>\n",
       "      <td>NaN</td>\n",
       "    </tr>\n",
       "  </tbody>\n",
       "</table>\n",
       "</div>"
      ],
      "text/plain": [
       "             df        sum_sq       mean_sq           F        PR(>F)\n",
       "Duration    1.0  9.847530e+06  9.847530e+06  928.219489  5.795220e-69\n",
       "Residual  162.0  1.718667e+06  1.060905e+04         NaN           NaN"
      ]
     },
     "execution_count": 19,
     "metadata": {},
     "output_type": "execute_result"
    },
    {
     "data": {
      "image/png": "[encoded data removed]",
      "text/plain": [
       "<Figure size 640x480 with 1 Axes>"
      ]
     },
     "metadata": {},
     "output_type": "display_data"
    }
   ],
   "source": [
    "#Sandoval Santos Jacqueline\n",
    "\n",
    "import numpy as np\n",
    "import pandas as pd\n",
    "import matplotlib.pyplot as plt\n",
    "\n",
    "df = pd.read_csv(\"https://raw.githubusercontent.com/Jacqueline030409/Estadistica-Inferencial-II/refs/heads/main/data.csv\")\n",
    "df.dropna(inplace = True) \n",
    "df\n",
    "\n",
    "X= df[\"Duration\"]\n",
    "Y= df[\"Calories\"]\n",
    "\n",
    "\n",
    "plt.scatter(X, Y, color = 'pink')\n",
    "plt.xlabel('Duration')\n",
    "plt.ylabel('Calories')\n",
    "ax = plt.gca()\n",
    "ax.spines['top'].set_visible(False)\n",
    "ax.spines['right'].set_visible(False)\n",
    "\n",
    "\n",
    "import statsmodels.api as sm\n",
    "x_constante = sm.add_constant(X)\n",
    "modelo = sm.OLS(Y, x_constante).fit()\n",
    "\n",
    "b0, b1 = modelo.params\n",
    "\n",
    "fun = lambda x: b0 + b1 * x\n",
    "\n",
    "Yc = fun(X)\n",
    "\n",
    "plt.plot(X, Yc, color = 'black', linestyle = '--')\n",
    "\n",
    "from scipy.stats import pearsonr\n",
    "r, _ = pearsonr(X, Y)\n",
    "print(f'Coeficiente de correlación: {r: 0.4f}\\n')\n",
    "\n",
    "print(f'Coeficiente de determinación: {r ** 2: 0.4f}\\n')\n",
    "\n",
    "# Interpretacion de resultados: \n",
    "# El coeficiente de correlación con un valor de 0.9227 nos indica que la relación entre las 2 variables es altamente positiva, ya que cuando una aumenta la otra lo hace también.\n",
    "\n",
    "# El coeficiente de determinación de 0.8514 nos muestra que el 85.14% de la variabilidad de la variable dependiente se debe a su estrecha relación con la variable independiente \n",
    "\n",
    "nivel_de_confianza = 0.98\n",
    "intervalo_de_confianza = modelo.conf_int(alpha = 1 - nivel_de_confianza)\n",
    "intervalo_de_confianza_b1 = intervalo_de_confianza.iloc[1]\n",
    "print(f'Intervalo de confianza para b1 de {nivel_de_confianza: 0.0%}')\n",
    "print(f'{intervalo_de_confianza_b1[0]: 0.4f} < b1 < {intervalo_de_confianza_b1[1]: 0.4f}\\n')\n",
    "\n",
    "\n",
    "\n",
    "from statsmodels.formula.api import ols\n",
    "# Y ~ X\n",
    "modelo_2 = ols('Calories ~ Duration', data = df).fit()\n",
    "tabla_anova = sm.stats.anova_lm(modelo_2)\n",
    "tabla_anova\n",
    "\n",
    "#El intervalo de confianza del 98% para la pendiente (b1) es 5.2890 < 𝑏1 < 6.1729 lo que indica que por cada unidad que aumenta la variable independiente, la dependiente crece entre 5.2890 y 6.1729 unidades.\n",
    "#El ANOVA muestra un F de 928.22 y un p-valor muy pequeño (5.7952e-69), confirmando que la variable independiente influye significativamente en la dependiente.\n"
   ]
  },
  {
   "cell_type": "code",
   "execution_count": null,
   "metadata": {},
   "outputs": [],
   "source": []
  }
 ],
 "metadata": {
  "kernelspec": {
   "display_name": "Python 3",
   "language": "python",
   "name": "python3"
  },
  "language_info": {
   "codemirror_mode": {
    "name": "ipython",
    "version": 3
   },
   "file_extension": ".py",
   "mimetype": "text/x-python",
   "name": "python",
   "nbconvert_exporter": "python",
   "pygments_lexer": "ipython3",
   "version": "3.13.2"
  }
 },
 "nbformat": 4,
 "nbformat_minor": 2
}
